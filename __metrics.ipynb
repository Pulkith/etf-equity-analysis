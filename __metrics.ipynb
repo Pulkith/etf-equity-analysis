{
 "cells": [
  {
   "cell_type": "code",
   "execution_count": 31,
   "metadata": {},
   "outputs": [
    {
     "name": "stderr",
     "output_type": "stream",
     "text": [
      "/var/folders/lw/9t5ytb2d3xs243fmlzf16znr0000gn/T/ipykernel_99254/3467356568.py:13: FutureWarning: Series.__getitem__ treating keys as positions is deprecated. In a future version, integer keys will always be treated as labels (consistent with DataFrame behavior). To access a value by position, use `ser.iloc[pos]`\n",
      "  annual_return = (hist['Close'][-1] / hist['Close'][0]) - 1\n",
      "/var/folders/lw/9t5ytb2d3xs243fmlzf16znr0000gn/T/ipykernel_99254/3467356568.py:13: FutureWarning: Series.__getitem__ treating keys as positions is deprecated. In a future version, integer keys will always be treated as labels (consistent with DataFrame behavior). To access a value by position, use `ser.iloc[pos]`\n",
      "  annual_return = (hist['Close'][-1] / hist['Close'][0]) - 1\n"
     ]
    },
    {
     "name": "stdout",
     "output_type": "stream",
     "text": [
      "Metrics for SPY:\n",
      "Volatility (Std Dev): 13.58%\n",
      "Sharpe Ratio: 0.71\n",
      "P/E Ratio: 25.132515\n",
      "Forward P/E Ratio: N/A\n",
      "Expense Ratio: N/A\n",
      "\n",
      "Metrics for XLU:\n",
      "Volatility (Std Dev): 15.80%\n",
      "Sharpe Ratio: 1.66\n",
      "P/E Ratio: 20.524681\n",
      "Forward P/E Ratio: N/A\n",
      "Expense Ratio: N/A\n",
      "\n"
     ]
    },
    {
     "name": "stderr",
     "output_type": "stream",
     "text": [
      "/var/folders/lw/9t5ytb2d3xs243fmlzf16znr0000gn/T/ipykernel_99254/3467356568.py:13: FutureWarning: Series.__getitem__ treating keys as positions is deprecated. In a future version, integer keys will always be treated as labels (consistent with DataFrame behavior). To access a value by position, use `ser.iloc[pos]`\n",
      "  annual_return = (hist['Close'][-1] / hist['Close'][0]) - 1\n",
      "/var/folders/lw/9t5ytb2d3xs243fmlzf16znr0000gn/T/ipykernel_99254/3467356568.py:13: FutureWarning: Series.__getitem__ treating keys as positions is deprecated. In a future version, integer keys will always be treated as labels (consistent with DataFrame behavior). To access a value by position, use `ser.iloc[pos]`\n",
      "  annual_return = (hist['Close'][-1] / hist['Close'][0]) - 1\n"
     ]
    },
    {
     "name": "stdout",
     "output_type": "stream",
     "text": [
      "Metrics for IGV:\n",
      "Volatility (Std Dev): 22.95%\n",
      "Sharpe Ratio: 0.34\n",
      "P/E Ratio: 42.41367\n",
      "Forward P/E Ratio: N/A\n",
      "Expense Ratio: N/A\n",
      "\n",
      "Metrics for SMH:\n",
      "Volatility (Std Dev): 36.62%\n",
      "Sharpe Ratio: 0.09\n",
      "P/E Ratio: 31.976257\n",
      "Forward P/E Ratio: N/A\n",
      "Expense Ratio: N/A\n",
      "\n"
     ]
    },
    {
     "name": "stderr",
     "output_type": "stream",
     "text": [
      "/var/folders/lw/9t5ytb2d3xs243fmlzf16znr0000gn/T/ipykernel_99254/3467356568.py:13: FutureWarning: Series.__getitem__ treating keys as positions is deprecated. In a future version, integer keys will always be treated as labels (consistent with DataFrame behavior). To access a value by position, use `ser.iloc[pos]`\n",
      "  annual_return = (hist['Close'][-1] / hist['Close'][0]) - 1\n",
      "/var/folders/lw/9t5ytb2d3xs243fmlzf16znr0000gn/T/ipykernel_99254/3467356568.py:13: FutureWarning: Series.__getitem__ treating keys as positions is deprecated. In a future version, integer keys will always be treated as labels (consistent with DataFrame behavior). To access a value by position, use `ser.iloc[pos]`\n",
      "  annual_return = (hist['Close'][-1] / hist['Close'][0]) - 1\n"
     ]
    },
    {
     "name": "stdout",
     "output_type": "stream",
     "text": [
      "Metrics for ARKK:\n",
      "Volatility (Std Dev): 37.65%\n",
      "Sharpe Ratio: 0.01\n",
      "P/E Ratio: 30.377903\n",
      "Forward P/E Ratio: N/A\n",
      "Expense Ratio: N/A\n",
      "\n",
      "Metrics for XLE:\n",
      "Volatility (Std Dev): 18.82%\n",
      "Sharpe Ratio: 0.03\n",
      "P/E Ratio: 15.841169\n",
      "Forward P/E Ratio: N/A\n",
      "Expense Ratio: N/A\n",
      "\n"
     ]
    },
    {
     "name": "stderr",
     "output_type": "stream",
     "text": [
      "/var/folders/lw/9t5ytb2d3xs243fmlzf16znr0000gn/T/ipykernel_99254/3467356568.py:13: FutureWarning: Series.__getitem__ treating keys as positions is deprecated. In a future version, integer keys will always be treated as labels (consistent with DataFrame behavior). To access a value by position, use `ser.iloc[pos]`\n",
      "  annual_return = (hist['Close'][-1] / hist['Close'][0]) - 1\n",
      "/var/folders/lw/9t5ytb2d3xs243fmlzf16znr0000gn/T/ipykernel_99254/3467356568.py:13: FutureWarning: Series.__getitem__ treating keys as positions is deprecated. In a future version, integer keys will always be treated as labels (consistent with DataFrame behavior). To access a value by position, use `ser.iloc[pos]`\n",
      "  annual_return = (hist['Close'][-1] / hist['Close'][0]) - 1\n"
     ]
    },
    {
     "name": "stdout",
     "output_type": "stream",
     "text": [
      "Metrics for QQQ:\n",
      "Volatility (Std Dev): 19.20%\n",
      "Sharpe Ratio: 0.46\n",
      "P/E Ratio: 30.94064\n",
      "Forward P/E Ratio: N/A\n",
      "Expense Ratio: N/A\n",
      "\n",
      "Metrics for XLK:\n",
      "Volatility (Std Dev): 23.90%\n",
      "Sharpe Ratio: 0.12\n",
      "P/E Ratio: 34.21057\n",
      "Forward P/E Ratio: N/A\n",
      "Expense Ratio: N/A\n",
      "\n"
     ]
    }
   ],
   "source": [
    "import yfinance as yf\n",
    "import numpy as np\n",
    "\n",
    "def get_etf_metrics(ticker_symbol, risk_free_rate=0.02):\n",
    "    stock = yf.Ticker(ticker_symbol)\n",
    "    hist = stock.history(period=\"1y\")\n",
    "\n",
    "    # Volatility (Standard Deviation of Daily Returns)\n",
    "    daily_returns = hist['Close'].pct_change().dropna()\n",
    "    volatility = np.std(daily_returns) * np.sqrt(252)\n",
    "\n",
    "    # Sharpe Ratio Calculation (Assuming 2% risk-free rate)\n",
    "    annual_return = (hist['Close'][-1] / hist['Close'][0]) - 1\n",
    "    sharpe_ratio = (annual_return - risk_free_rate) / volatility\n",
    "\n",
    "    # Additional Metrics\n",
    "    pe_ratio = stock.info.get('trailingPE', 'N/A')\n",
    "    forward_pe = stock.info.get('forwardPE', 'N/A')\n",
    "    expense_ratio = stock.info.get('expenseRatio', 'N/A')\n",
    "\n",
    "    return {\n",
    "        'Volatility (Std Dev)': f\"{volatility:.2%}\" if volatility != 'N/A' else 'N/A',\n",
    "        'Sharpe Ratio': f\"{sharpe_ratio:.2f}\" if sharpe_ratio != 'N/A' else 'N/A',\n",
    "        'P/E Ratio': pe_ratio,\n",
    "        'Forward P/E Ratio': forward_pe,\n",
    "        'Expense Ratio': expense_ratio\n",
    "    }\n",
    "\n",
    "etfs = [\"SPY\", \"XLU\", \"IGV\", \"SMH\", \"ARKK\", \"XLE\", \"QQQ\", \"XLK\"]\n",
    "\n",
    "# Example usage\n",
    "for etf in etfs:\n",
    "    metrics = get_etf_metrics(etf)\n",
    "    print(f\"Metrics for {etf}:\")\n",
    "    for metric, value in metrics.items():\n",
    "        print(f\"{metric}: {value}\")\n",
    "    print()"
   ]
  }
 ],
 "metadata": {
  "kernelspec": {
   "display_name": "venv",
   "language": "python",
   "name": "python3"
  },
  "language_info": {
   "codemirror_mode": {
    "name": "ipython",
    "version": 3
   },
   "file_extension": ".py",
   "mimetype": "text/x-python",
   "name": "python",
   "nbconvert_exporter": "python",
   "pygments_lexer": "ipython3",
   "version": "3.11.11"
  }
 },
 "nbformat": 4,
 "nbformat_minor": 2
}
